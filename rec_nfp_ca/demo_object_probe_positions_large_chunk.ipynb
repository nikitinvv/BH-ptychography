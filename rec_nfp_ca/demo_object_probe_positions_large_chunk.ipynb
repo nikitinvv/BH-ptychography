{
 "cells": [
  {
   "cell_type": "code",
   "execution_count": null,
   "metadata": {},
   "outputs": [],
   "source": [
    "import cupy as cp\n",
    "import matplotlib.pyplot as plt\n",
    "import pandas as pd\n",
    "import time\n",
    "from utils import *\n",
    "\n",
    "from rec import Rec\n",
    "from types import SimpleNamespace   \n",
    "\n",
    "import warnings\n",
    "warnings.filterwarnings(\"ignore\", message=f\".*peer.*\")\n",
    "\n",
    "%matplotlib inline"
   ]
  },
  {
   "cell_type": "markdown",
   "metadata": {},
   "source": [
    "## Sizes and propagation settings"
   ]
  },
  {
   "cell_type": "code",
   "execution_count": null,
   "metadata": {},
   "outputs": [],
   "source": [
    "n = 1024  # data size in each dimension\n",
    "npsi = n + n // 4  # object size in each dimension\n",
    "pad = n // 16  # pad for the reconstructed probe\n",
    "nq = n + 2 * pad  # probe size\n",
    "ex = 8  # extra padding for shifts\n",
    "npatch = nq + 2 * ex  # patch size for shifts\n",
    "npos = 16  # total number of positions\n",
    "\n",
    "voxelsize = 2e-8  # [m]\n",
    "distance = 0.0043  # [m]\n",
    "energy = 33.35  # [keV]\n",
    "wavelength = 1.24e-09 / energy  # [m]\n",
    "eps = 1e-8  # avoid division by 0 in computations\n",
    "npos_chunk = 4"
   ]
  },
  {
   "cell_type": "markdown",
   "metadata": {},
   "source": [
    "## Load object, probe, and 16 positions"
   ]
  },
  {
   "cell_type": "code",
   "execution_count": null,
   "metadata": {},
   "outputs": [],
   "source": [
    "psi = np.load(\"psi.npy\")\n",
    "q = np.load(\"q.npy\")\n",
    "pos = np.load(\"pos.npy\")\n",
    "\n",
    "mshow_polar(psi)\n",
    "mshow_polar(q)\n",
    "mplot_positions(pos)"
   ]
  },
  {
   "cell_type": "code",
   "execution_count": null,
   "metadata": {},
   "outputs": [],
   "source": [
    "\n",
    "args = SimpleNamespace()\n",
    "\n",
    "args.ngpus = 4\n",
    "args.npsi = npsi\n",
    "args.nq = nq\n",
    "args.npatch = npatch\n",
    "args.n = n\n",
    "args.npos = npos\n",
    "args.nchunk = 4\n",
    "args.pad = pad\n",
    "args.ex = 8\n",
    "args.voxelsize = voxelsize\n",
    "args.wavelength = wavelength\n",
    "args.distance = distance\n",
    "args.eps = 1e-8\n",
    "args.rho = np.array([1,2,0.1])\n",
    "args.lam = 0.6\n",
    "args.crop=2*pad\n",
    "cl_rec = Rec(args)\n",
    "\n"
   ]
  },
  {
   "cell_type": "code",
   "execution_count": null,
   "metadata": {},
   "outputs": [],
   "source": [
    "psi = np.load(\"psi.npy\")\n",
    "q = np.load(\"q.npy\")\n",
    "pos = np.load(\"pos.npy\")\n",
    "\n",
    "mshow_polar(psi)\n",
    "mshow_polar(q)\n",
    "mplot_positions(pos)"
   ]
  },
  {
   "cell_type": "markdown",
   "metadata": {},
   "source": []
  },
  {
   "cell_type": "markdown",
   "metadata": {},
   "source": [
    "### Introduce position error"
   ]
  },
  {
   "cell_type": "code",
   "execution_count": null,
   "metadata": {},
   "outputs": [],
   "source": [
    "np.random.seed(100)\n",
    "pos_init = pos + (np.random.random(pos.shape) - 0.5) * 2\n",
    "\n",
    "plt.plot(pos[:, 1], pos[:, 0], \".\", label=\"init\")\n",
    "plt.plot(pos_init[:, 1], pos_init[:, 0], \".\", label=\"misaligned\")\n",
    "\n",
    "plt.legend()\n",
    "plt.axis(\"square\")\n",
    "plt.grid()"
   ]
  },
  {
   "cell_type": "code",
   "execution_count": null,
   "metadata": {},
   "outputs": [],
   "source": [
    "ri = np.floor(pos).astype(\"int32\")\n",
    "r = (pos - ri).astype('float32')\n",
    "\n",
    "data = np.abs(cl_rec.fwd(ri,r,psi,q)) ** 2\n",
    "\n",
    "dref = np.abs(cl_rec.fwd(ri,r,psi*0+1,q)) ** 2\n",
    "dref = dref[0]\n",
    "\n",
    "mshow(data[0])\n",
    "mshow(dref)"
   ]
  },
  {
   "cell_type": "markdown",
   "metadata": {},
   "source": [
    "### Initial guess for the object calculated with the Paganin method"
   ]
  },
  {
   "cell_type": "code",
   "execution_count": null,
   "metadata": {},
   "outputs": [],
   "source": [
    "def Paganin(data, wavelength, voxelsize, delta_beta, alpha):\n",
    "    fx = cp.fft.fftfreq(data.shape[-1], d=voxelsize).astype(\"float32\")\n",
    "    [fx, fy] = cp.meshgrid(fx, fx)\n",
    "    rad_freq = cp.fft.fft2(data)\n",
    "    taylorExp = 1 + wavelength * distance * cp.pi * (delta_beta) * (fx**2 + fy**2)\n",
    "    numerator = taylorExp * (rad_freq)\n",
    "    denominator = taylorExp**2 + alpha\n",
    "    phase = cp.log(cp.real(cp.fft.ifft2(numerator / denominator)))\n",
    "    phase = delta_beta * 0.5 * phase\n",
    "    return phase\n",
    "\n",
    "\n",
    "def rec_init(rdata, ri):\n",
    "    recMultiPaganin = cp.zeros([npsi, npsi], dtype=\"float32\")\n",
    "    recMultiPaganinr = cp.zeros(\n",
    "        [npsi, npsi], dtype=\"float32\"\n",
    "    )  # to compensate for overlap\n",
    "    for j in range(npos):\n",
    "        r = cp.array(rdata[j])\n",
    "        pos = r * 0 + 1  # to compensate for overlap\n",
    "        rpsi = cp.ones([npsi, npsi], dtype=\"float32\")\n",
    "        rrpsi = cp.ones([npsi, npsi], dtype=\"float32\")\n",
    "        stx = npsi // 2 - ri[j, 1] - n // 2\n",
    "        endx = stx + n\n",
    "        sty = npsi // 2 - ri[j, 0] - n // 2\n",
    "        endy = sty + n\n",
    "        rpsi[sty:endy, stx:endx] = r\n",
    "        rrpsi[sty:endy, stx:endx] = pos\n",
    "        rpsi = Paganin(rpsi, wavelength, voxelsize, 24.05, 1e-6)\n",
    "        recMultiPaganin += rpsi\n",
    "        recMultiPaganinr += rrpsi\n",
    "\n",
    "    recMultiPaganinr[np.abs(recMultiPaganinr) < 5e-2] = 1\n",
    "    recMultiPaganin /= recMultiPaganinr\n",
    "    recMultiPaganin = np.exp(1j * recMultiPaganin)\n",
    "    return recMultiPaganin\n",
    "\n",
    "\n",
    "ri = cp.round(pos_init).astype(\"int32\")\n",
    "rdata = data / (dref + 1e-9)\n",
    "psi_init = rec_init(rdata, ri)\n",
    "mshow_polar(psi_init)"
   ]
  },
  {
   "cell_type": "markdown",
   "metadata": {},
   "source": [
    "#### Initial guess for the probe calculated by backpropagating the square root of the reference image\n",
    "#### Smooth the probe borders for stability"
   ]
  },
  {
   "cell_type": "code",
   "execution_count": null,
   "metadata": {},
   "outputs": [],
   "source": [
    "q_init = cp.array(cl_rec.DT(np.sqrt(dref[np.newaxis]))[0])\n",
    "\n",
    "ppad = 3 * pad // 2\n",
    "q_init = np.pad(\n",
    "    q_init[ppad : nq - ppad, ppad : nq - ppad],\n",
    "    ((ppad, ppad), (ppad, ppad)),\n",
    "    \"symmetric\",\n",
    ")\n",
    "v = cp.ones(nq, dtype=\"float32\")\n",
    "vv = cp.sin(cp.linspace(0, cp.pi / 2, ppad))\n",
    "v[:ppad] = vv\n",
    "v[nq - ppad :] = vv[::-1]\n",
    "v = cp.outer(v, v)\n",
    "q_init = cp.abs(q_init * v) * cp.exp(1j * cp.angle(q_init) * v)\n",
    "\n",
    "mshow_polar(q_init)"
   ]
  },
  {
   "cell_type": "code",
   "execution_count": null,
   "metadata": {},
   "outputs": [],
   "source": [
    "\n",
    "\n",
    "# parameters\n",
    "pars = {\"niter\": 256, \"err_step\": 1, \"vis_step\": -1}\n",
    "pars[\"rho\"] = [1, 2, 0.1]\n",
    "pars[\"method\"] = \"BH-CG\"\n",
    "pars[\"flg\"] = f\"{pars['method']}_{pars['rho'][0]}_{pars['rho'][1]}_{pars['rho'][2]}\"\n",
    "\n",
    "# variables\n",
    "vars = {}\n",
    "vars[\"psi\"] = cp.array(psi_init).copy()\n",
    "vars[\"q\"] = cp.array(q_init).copy()\n",
    "vars[\"ri\"] = np.floor(pos_init).astype(\"int32\")\n",
    "vars[\"r\"] = np.array(pos_init - np.floor(pos_init).astype(\"int32\")).astype(\"float32\")\n",
    "vars[\"table\"] = pd.DataFrame(columns=[\"iter\", \"err\", \"time\"])\n",
    "# reconstruction\n",
    "dref = cp.array(dref)\n",
    "vars = cl_rec.BH(data, dref, vars, pars)\n",
    "\n",
    "# results\n",
    "erra = vars[\"table\"][\"err\"].values\n",
    "plt.plot(erra, label=f\"{pars['flg']}\")\n",
    "plt.yscale(\"log\")\n",
    "plt.grid()\n",
    "mshow_polar(vars[\"psi\"])\n",
    "mshow_polar(vars[\"q\"])\n",
    "pos_rec = vars[\"ri\"] + vars[\"r\"]\n",
    "plt.plot((pos[:, 1] - pos_rec[:, 1]), \".\", label=\"x difference\")\n",
    "plt.plot((pos[:, 0] - pos_rec[:, 0]), \".\", label=\"y difference\")\n",
    "plt.legend()\n",
    "plt.grid()\n",
    "plt.plot()"
   ]
  }
 ],
 "metadata": {
  "kernelspec": {
   "display_name": "holotomocupy",
   "language": "python",
   "name": "python3"
  },
  "language_info": {
   "codemirror_mode": {
    "name": "ipython",
    "version": 3
   },
   "file_extension": ".py",
   "mimetype": "text/x-python",
   "name": "python",
   "nbconvert_exporter": "python",
   "pygments_lexer": "ipython3",
   "version": "3.12.8"
  }
 },
 "nbformat": 4,
 "nbformat_minor": 2
}
