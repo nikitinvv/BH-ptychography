{
 "cells": [
  {
   "cell_type": "code",
   "execution_count": null,
   "metadata": {},
   "outputs": [],
   "source": [
    "import tifffile\n",
    "import matplotlib.pyplot as plt\n",
    "\n",
    "def mshow(iter):\n",
    "    fig, ax = plt.subplots(2,3,figsize=(12,8))\n",
    "    fig.suptitle(f'{iter=}')\n",
    "    for k,fnames0 in enumerate(fnames):\n",
    "        file = f'{path}{fnames0}/rec_prb_angle/{iter:04}.tiff'\n",
    "        ax[k//3,k%3].set_xticks([])\n",
    "        ax[k//3,k%3].set_yticks([])\n",
    "        ax[k//3,k%3].set_title(fnames0)\n",
    "        try:\n",
    "            a = tifffile.imread(file)\n",
    "            ax[k//3,k%3].imshow(a,cmap='gray',vmax = 1.8,vmin=-1.8)            \n",
    "            # ax[k//3,k%3].imshow(a,cmap='gray',vmax = 1.8,vmin=0.4)            \n",
    "        except:\n",
    "            pass\n",
    "        \n",
    "    plt.savefig(f'/data/vnikitin/figs/a0_{iter}.png',dpi=300,bbox_inches='tight')\n",
    "    # plt.show()\n",
    "\n",
    "path = '/data/vnikitin/ESRF/ID16A/20240924_rec0224/SiemensLH/code2um_nfp18x18_01/'\n",
    "fnames =  ['256_0.0',  '256_0.01',  '256_0.05',  '256_0.1',  '256_0.2', '128_0.05_64']#,  '512_0.02_256',  '512_0.0_256',  '512_0.05_256'] \n",
    "for k in range(0,2049,64):    \n",
    "    print(k)\n",
    "    mshow(k)\n"
   ]
  },
  {
   "cell_type": "code",
   "execution_count": null,
   "metadata": {},
   "outputs": [],
   "source": [
    "import tifffile\n",
    "import matplotlib.pyplot as plt\n",
    "\n",
    "def mshow(iter):\n",
    "    fig, ax = plt.subplots(2,3,figsize=(12,8))\n",
    "    fig.suptitle(f'{iter=}')\n",
    "    for k,fnames0 in enumerate(fnames):\n",
    "        file = f'{path}{fnames0}/rec_prb_angle/{iter:04}.tiff'\n",
    "        ax[k//3,k%3].set_xticks([])\n",
    "        ax[k//3,k%3].set_yticks([])\n",
    "        ax[k//3,k%3].set_title(fnames0)\n",
    "        try:\n",
    "            a = tifffile.imread(file)\n",
    "            ax[k//3,k%3].imshow(a[512:512+512:,-512:],cmap='gray',vmax = 1.8,vmin=-1.8)            \n",
    "        except:\n",
    "            pass\n",
    "    plt.savefig(f'/data/vnikitin/figs/a1_{iter}.png',dpi=300,bbox_inches='tight')    \n",
    "    # plt.show()\n",
    "\n",
    "path = '/data/vnikitin/ESRF/ID16A/20240924_rec0224/SiemensLH/code2um_nfp18x18_01/'\n",
    "fnames =  ['256_0.0',  '256_0.01',  '256_0.05',  '256_0.1',  '256_0.2', '128_0.05_64']#,  '512_0.02_256',  '512_0.0_256',  '512_0.05_256'] \n",
    "for k in range(0,2049,64):    \n",
    "    print(k)\n",
    "    mshow(k)\n"
   ]
  },
  {
   "cell_type": "code",
   "execution_count": null,
   "metadata": {},
   "outputs": [],
   "source": [
    "import tifffile\n",
    "import matplotlib.pyplot as plt\n",
    "\n",
    "def mshow(iter):\n",
    "    fig, ax = plt.subplots(2,3,figsize=(12,8))\n",
    "    fig.suptitle(f'{iter=}')\n",
    "    for k,fnames0 in enumerate(fnames):\n",
    "        file = f'{path}{fnames0}/rec_prb_angle/{iter:04}.tiff'\n",
    "        ax[k//3,k%3].set_xticks([])\n",
    "        ax[k//3,k%3].set_yticks([])\n",
    "        ax[k//3,k%3].set_title(fnames0)\n",
    "        try:\n",
    "            a = tifffile.imread(file)\n",
    "            ax[k//3,k%3].imshow(a[-512:,-512:],cmap='gray',vmax = 1.8,vmin=-1.8)            \n",
    "        except:\n",
    "            pass\n",
    "    plt.savefig(f'/data/vnikitin/figs/a2_{iter}.png',dpi=300,bbox_inches='tight')    \n",
    "    # plt.show()\n",
    "\n",
    "path = '/data/vnikitin/ESRF/ID16A/20240924_rec0224/SiemensLH/code2um_nfp18x18_01/'\n",
    "fnames =  ['256_0.0',  '256_0.01',  '256_0.05',  '256_0.1',  '256_0.2', '128_0.05_64']#,  '512_0.02_256',  '512_0.0_256',  '512_0.05_256'] \n",
    "for k in range(0,2049,64):    \n",
    "    print(k)\n",
    "    mshow(k)\n"
   ]
  }
 ],
 "metadata": {
  "kernelspec": {
   "display_name": "holotomocupy",
   "language": "python",
   "name": "python3"
  },
  "language_info": {
   "codemirror_mode": {
    "name": "ipython",
    "version": 3
   },
   "file_extension": ".py",
   "mimetype": "text/x-python",
   "name": "python",
   "nbconvert_exporter": "python",
   "pygments_lexer": "ipython3",
   "version": "3.12.8"
  }
 },
 "nbformat": 4,
 "nbformat_minor": 2
}
