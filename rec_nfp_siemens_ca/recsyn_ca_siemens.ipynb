{
 "cells": [
  {
   "cell_type": "code",
   "execution_count": null,
   "id": "fad77fab-e206-47c1-9655-088d14fe30cb",
   "metadata": {},
   "outputs": [],
   "source": [
    "import numpy as np\n",
    "import cupy as cp\n",
    "import sys\n",
    "import pandas as pd\n",
    "import time\n",
    "\n",
    "import matplotlib.pyplot as plt\n",
    "from utils import write_tiff, read_tiff\n",
    "from utils import mshow, mshow_polar, mshow_complex\n",
    "import h5py\n",
    "from rec import Rec\n",
    "from types import SimpleNamespace\n",
    "\n",
    "import warnings\n",
    "\n",
    "warnings.filterwarnings(\"ignore\", message=f\".*peer.*\")"
   ]
  },
  {
   "cell_type": "code",
   "execution_count": null,
   "id": "dc75e928",
   "metadata": {},
   "outputs": [],
   "source": [
    "energy = 33.5\n",
    "wavelength = 1.24e-09 / energy\n",
    "z1 = -17.75e-3  # [m] position of the sample\n",
    "detector_pixelsize = 3.03751e-6\n",
    "focusToDetectorDistance = 1.28  # [m]\n",
    "# adjustments for the cone beam\n",
    "z2 = focusToDetectorDistance - z1\n",
    "distance = (z1 * z2) / focusToDetectorDistance\n",
    "magnification = focusToDetectorDistance / z1\n",
    "voxelsize = float(cp.abs(detector_pixelsize / magnification))"
   ]
  },
  {
   "cell_type": "code",
   "execution_count": null,
   "id": "d545e3cb",
   "metadata": {},
   "outputs": [],
   "source": [
    "args = SimpleNamespace()\n",
    "\n",
    "args.ngpus = 1#int(sys.args[1])\n",
    "args.n = 8192\n",
    "args.ncode = 8192\n",
    "args.npsi = 8192\n",
    "args.pad = 0\n",
    "args.nq = 8192\n",
    "args.ex = 0\n",
    "args.npatch = 8192\n",
    "args.npos = 1\n",
    "args.nchunk = 1\n",
    "\n",
    "args.voxelsize = voxelsize\n",
    "args.wavelength = wavelength\n",
    "args.distance = distance\n",
    "args.distancec = distance\n",
    "args.eps = 1e-8\n",
    "args.show = True\n",
    "\n",
    "# doesnt matter\n",
    "args.lam = 0\n",
    "args.eps = 1e-12\n",
    "args.rho = [1, 0.0, 0.0]\n",
    "args.crop = 0\n",
    "args.path_out = \"\"\n",
    "args.niter = 2049\n",
    "args.err_step = 1\n",
    "args.vis_step = 8\n",
    "args.method = \"BH-CG\"\n",
    "\n",
    "args.show = True\n",
    "\n",
    "# create class\n",
    "cl_rec = Rec(args)"
   ]
  },
  {
   "cell_type": "code",
   "execution_count": null,
   "id": "ccb0c881",
   "metadata": {},
   "outputs": [],
   "source": [
    "path_code = f\"/data/vnikitin/ESRF/ID16A/20240924_rec0224/SiemensLH/code2um_nfp18x18_01/256_0.05/\""
   ]
  },
  {
   "cell_type": "code",
   "execution_count": null,
   "id": "2041fd3f",
   "metadata": {},
   "outputs": [],
   "source": [
    "code_angle = read_tiff(f'{path_code}/rec_psi_angle/2048.tiff')\n",
    "code_abs = read_tiff(f'{path_code}/rec_psi_abs/2048.tiff')\n",
    "code = code_abs*np.exp(1j*code_angle)\n",
    "mshow_polar(code,args.show)\n",
    "\n",
    "q_angle = read_tiff(f'{path_code}/rec_prb_angle/2048.tiff')\n",
    "q_abs = read_tiff(f'{path_code}/rec_prb_abs/2048.tiff')\n",
    "q = q_abs*np.exp(1j*q_angle)\n",
    "mshow_polar(q,args.show)\n"
   ]
  },
  {
   "cell_type": "code",
   "execution_count": null,
   "id": "23b13f76",
   "metadata": {},
   "outputs": [],
   "source": [
    "code_data = (cp.abs(cl_rec.D(cp.array(code[cp.newaxis]))[0])**2).get()\n",
    "mshow(code_data,args.show,vmax=3)"
   ]
  },
  {
   "cell_type": "code",
   "execution_count": null,
   "id": "b293973d",
   "metadata": {},
   "outputs": [],
   "source": [
    "mshow(code_data,args.show,vmax=1.7,vmin=0.7)\n",
    "mshow(code_data[2000:2500,2000:2500],args.show,vmax=1.7,vmin=0.7)"
   ]
  },
  {
   "cell_type": "markdown",
   "id": "49eb1696-bb30-496e-8c3d-565f2791112c",
   "metadata": {},
   "source": [
    "## Model data\n",
    "\n"
   ]
  },
  {
   "cell_type": "code",
   "execution_count": null,
   "id": "3f4bdd50",
   "metadata": {},
   "outputs": [],
   "source": []
  },
  {
   "cell_type": "markdown",
   "id": "233b06b6",
   "metadata": {},
   "source": [
    "# find shift with 1 pixel accuracy"
   ]
  },
  {
   "cell_type": "code",
   "execution_count": null,
   "id": "15d52a4e",
   "metadata": {},
   "outputs": [],
   "source": [
    "z1c = -17.75e-3\n",
    "detector_pixelsize = 3.03751e-6\n",
    "energy = 33.35  # [keV] xray energy\n",
    "wavelength = 1.2398419840550367e-09/energy  # [m] wave length\n",
    "focusToDetectorDistance = 1.28  # [m]\n",
    "sx0 = 1.286e-3\n",
    "z1 = 5.5e-3-sx0\n",
    "z2 = focusToDetectorDistance-z1\n",
    "distance = (z1*z2)/focusToDetectorDistance\n",
    "magnifications = focusToDetectorDistance/z1\n",
    "voxelsize = np.abs(detector_pixelsize/magnifications)  # object voxel size\n",
    "\n",
    "# magnification when propagating from the probe plane to the detector\n",
    "magnifications2 = z1/z1c\n",
    "distancec = (z1-z1c)/(z1c/z1)#magnifications2\n",
    "\n",
    "show = True"
   ]
  },
  {
   "cell_type": "code",
   "execution_count": null,
   "id": "14f44d56",
   "metadata": {},
   "outputs": [],
   "source": [
    "args = SimpleNamespace()\n",
    "args.npos = 81\n",
    "\n",
    "args.ngpus = 1\n",
    "args.lam = 0.1\n",
    "\n",
    "args.n = 2048\n",
    "args.ncode = 8192\n",
    "args.pad = args.n // 16\n",
    "args.npsi = args.n + 2 * args.pad\n",
    "args.nq = args.n + 2 * args.pad\n",
    "args.ex = 8\n",
    "args.npatch = args.nq + 2 * args.ex\n",
    "args.nchunk =4\n",
    "\n",
    "args.voxelsize = voxelsize\n",
    "args.wavelength = wavelength\n",
    "args.distance = distance\n",
    "args.distancec = distancec\n",
    "args.eps = 1e-15\n",
    "args.rho = [1, 0, 0]\n",
    "args.crop = 2 * args.pad\n",
    "args.path_out = f\"/data/vnikitin/ESRF/ID16A/20240924_rec0224/SiemensLH/SiemensLH_010nm_code2um_nfp9x9_01/{args.lam}\"\n",
    "\n",
    "\n",
    "args.niter = 2049\n",
    "args.err_step = 1\n",
    "args.vis_step = 8\n",
    "args.method = \"BH-CG\"\n",
    "args.show = True\n",
    "\n",
    "\n"
   ]
  },
  {
   "cell_type": "code",
   "execution_count": null,
   "id": "cc761ae1",
   "metadata": {},
   "outputs": [],
   "source": [
    "import scipy.ndimage as ndimage\n",
    "psi = ndimage.zoom(np.load('psi.npy'),4)\n",
    "psi = psi[psi.shape[0]//2-args.npsi//2:psi.shape[0]//2+args.npsi//2,\n",
    "          psi.shape[0]//2-args.npsi//2:psi.shape[0]//2+args.npsi//2]\n",
    "psi = np.abs(psi)*np.exp(1j*np.angle(psi)/10)\n",
    "\n",
    "shifts_code = np.load('shifts_code.npy')\n",
    "ids = np.where((np.abs(shifts_code[:,0])<600) * (np.abs(shifts_code[:,1])<600))[0]\n",
    "print(len(ids))\n",
    "\n",
    "args.npos = len(ids)\n",
    "shifts_code = shifts_code[ids]\n",
    "ri = shifts_code.astype('int32')\n",
    "r = (shifts_code -ri).astype('float32')\n",
    "print(psi.shape)\n",
    "mshow_polar(psi,show)\n",
    "\n",
    "\n",
    "# create class\n",
    "cl_rec = Rec(args)\n"
   ]
  },
  {
   "cell_type": "code",
   "execution_count": null,
   "id": "4bfbcd3e",
   "metadata": {},
   "outputs": [],
   "source": [
    "t = cl_rec.S(ri,r,code)\n",
    "t = cl_rec.Dc(t*q)*psi\n",
    "t = cl_rec.D(t)\n",
    "data = np.abs(t)**2\n",
    "\n",
    "t = cl_rec.Dc(q[np.newaxis])\n",
    "t = cl_rec.D(t)[0]\n",
    "ref = np.abs(t)**2\n",
    "\n",
    "mshow(data[0],show)\n",
    "mshow(ref,show)"
   ]
  },
  {
   "cell_type": "code",
   "execution_count": null,
   "id": "476d7c3e",
   "metadata": {},
   "outputs": [],
   "source": [
    "rdata = data/ref\n"
   ]
  },
  {
   "cell_type": "markdown",
   "id": "2d3e1339",
   "metadata": {},
   "source": []
  },
  {
   "cell_type": "code",
   "execution_count": null,
   "id": "e1d45c0c",
   "metadata": {},
   "outputs": [],
   "source": [
    "ri = shifts_code.astype('int32')\n",
    "r = (shifts_code-ri).astype('float32')\n",
    "scode = cl_rec.S(ri,r,code)\n",
    "Dscode = cl_rec.Dc(scode*q)\n",
    "DDscode =  cl_rec.D(Dscode)\n",
    "\n",
    "mshow_polar(DDscode[0],mshow)\n",
    "rrdata = data/np.abs(DDscode)**2\n",
    "mshow(rrdata[0],show,vmax=1.3,vmin=0.7)\n"
   ]
  },
  {
   "cell_type": "code",
   "execution_count": null,
   "id": "597e0eea",
   "metadata": {},
   "outputs": [],
   "source": [
    "mshow(cp.mean(rrdata[:],axis=0),show,vmax=1.1,vmin=0.8)"
   ]
  },
  {
   "cell_type": "code",
   "execution_count": null,
   "id": "7a8941d3",
   "metadata": {},
   "outputs": [],
   "source": []
  },
  {
   "cell_type": "code",
   "execution_count": null,
   "id": "dd4d579d",
   "metadata": {},
   "outputs": [],
   "source": [
    "def Paganin(data, wavelength, voxelsize, delta_beta, alpha):\n",
    "    fx = cp.fft.fftfreq(data.shape[-1], d=voxelsize).astype(\"float32\")\n",
    "    [fx, fy] = cp.meshgrid(fx, fx)\n",
    "    rad_freq = cp.fft.fft2(data)\n",
    "    taylorExp = 1 + wavelength * distance * cp.pi * (delta_beta) * (fx**2 + fy**2)\n",
    "    numerator = taylorExp * (rad_freq)\n",
    "    denominator = taylorExp**2 + alpha\n",
    "    phase = cp.log(cp.real(cp.fft.ifft2(numerator / denominator)))\n",
    "    phase = delta_beta * 0.5 * phase\n",
    "    return phase\n",
    "\n",
    "\n",
    "def rec_init(rdata):\n",
    "    recMultiPaganin = cp.zeros([args.npsi, args.npsi], dtype=\"float32\")\n",
    "    recMultiPaganinr = cp.zeros(\n",
    "        [args.npsi, args.npsi], dtype=\"float32\"\n",
    "    )  # to compensate for overlap\n",
    "    for j in range(0, args.npos):\n",
    "        r = cp.array(rdata[j])\n",
    "        r = Paganin(r, wavelength, voxelsize, 25.05, 5e-7)\n",
    "        rr = r * 0 + 1  # to compensate for overlap\n",
    "        rpsi = cp.zeros([args.npsi, args.npsi], dtype=\"float32\")\n",
    "        rrpsi = cp.zeros([args.npsi, args.npsi], dtype=\"float32\")\n",
    "        stx = args.npsi // 2  - args.n // 2\n",
    "        endx = stx + args.n\n",
    "        sty = args.npsi // 2  - args.n // 2\n",
    "        endy = sty + args.n\n",
    "        rpsi[sty:endy, stx:endx] = r\n",
    "        rrpsi[sty:endy, stx:endx] = rr\n",
    "\n",
    "        recMultiPaganin += rpsi\n",
    "        recMultiPaganinr += rrpsi\n",
    "\n",
    "    recMultiPaganinr[np.abs(recMultiPaganinr) < 5e-2] = 1\n",
    "    recMultiPaganin /= recMultiPaganinr\n",
    "    recMultiPaganin = np.exp(1j * recMultiPaganin)\n",
    "    return recMultiPaganin\n",
    "\n",
    "\n",
    "\n",
    "# rdata = np.array(data / (ref + 1e-5))\n",
    "print(wavelength,voxelsize)\n",
    "rrdata0 = np.mean(rrdata,axis=0)\n",
    "rrdata0/=np.mean(rrdata0)\n",
    "# rrdata0[rrdata0>1.5]=1.5\n",
    "# mshow(rrdata0,show)\n",
    "rrdata0 = cp.array(rrdata0)\n",
    "# rrdata0 = np.pad(rrdata0,((args.npsi//2-args.n//2,args.npsi//2-args.n//2),\n",
    "#                                          (args.npsi//2-args.n//2,args.npsi//2-args.n//2)\n",
    "#                                          ),'symmetric')\n",
    "psi_init = Paganin(rrdata0, wavelength, voxelsize, 25.05, 5e-4)\n",
    "psi_init = np.pad(psi_init,((args.npsi//2-args.n//2,args.npsi//2-args.n//2),\n",
    "                                         (args.npsi//2-args.n//2,args.npsi//2-args.n//2)\n",
    "                                         ))\n",
    "psi_init = np.exp(1j * psi_init)\n",
    "mshow_polar(psi_init,args.show)\n",
    "\n",
    "# smooth borders\n",
    "v = cp.arange(-args.npsi // 2,args.npsi // 2) / args.npsi\n",
    "[vx, vy] = cp.meshgrid(v, v)\n",
    "v = cp.exp(-1000 * (vx**2 + vy**2)).astype(\"float32\")\n",
    "\n",
    "psi_init = cp.fft.fftshift(cp.fft.fftn(cp.fft.fftshift(psi_init)))\n",
    "psi_init = cp.fft.fftshift(cp.fft.ifftn(cp.fft.fftshift(psi_init * v))).astype(\n",
    "    \"complex64\"\n",
    ")\n",
    "mshow_polar(psi_init,args.show)\n",
    "\n",
    "rdata = v = []"
   ]
  },
  {
   "cell_type": "code",
   "execution_count": null,
   "id": "41741819",
   "metadata": {},
   "outputs": [],
   "source": [
    "# variables\n",
    "vars = {}\n",
    "vars[\"code\"] = cp.array(code)\n",
    "vars[\"psi\"] = cp.array(psi_init)\n",
    "vars[\"q\"] = cp.array(q)\n",
    "vars[\"ri\"] = np.floor(shifts_code).astype(\"int32\")\n",
    "vars[\"r\"] = np.array(shifts_code - vars[\"ri\"]).astype(\"float32\")+(np.random.random([args.npos,2]).astype('float32')-0.5)\n",
    "vars[\"table\"] = pd.DataFrame(columns=[\"iter\", \"err\", \"time\"])\n",
    "\n",
    "# reconstruction\n",
    "vars = cl_rec.BH(data, vars)\n"
   ]
  }
 ],
 "metadata": {
  "kernelspec": {
   "display_name": "holotomocupy",
   "language": "python",
   "name": "python3"
  },
  "language_info": {
   "codemirror_mode": {
    "name": "ipython",
    "version": 3
   },
   "file_extension": ".py",
   "mimetype": "text/x-python",
   "name": "python",
   "nbconvert_exporter": "python",
   "pygments_lexer": "ipython3",
   "version": "3.12.8"
  }
 },
 "nbformat": 4,
 "nbformat_minor": 5
}
